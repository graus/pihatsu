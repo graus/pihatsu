{
 "cells": [
  {
   "cell_type": "code",
   "execution_count": null,
   "metadata": {},
   "outputs": [],
   "source": [
    "import pandas as pd\n",
    "import numpy as np\n",
    "from matplotlib import cm\n",
    "import matplotlib.pyplot as plt\n",
    "import seaborn as sns\n",
    "from pihatsu import cmds\n",
    "\n",
    "sns.set()\n",
    "%matplotlib inline\n",
    "\n",
    "cmds = ['RPM', 'SPEED', 'THROTTLE_POS', 'ENGINE_LOAD', 'COOLANT_TEMP', 'INTAKE_TEMP', 'INTAKE_PRESSURE', 'TIMING_ADVANCE']"
   ]
  },
  {
   "cell_type": "code",
   "execution_count": null,
   "metadata": {},
   "outputs": [],
   "source": [
    "def get_avg(d):\n",
    "    return d[d!=0].mean()\n",
    "\n",
    "def get_stops(d):\n",
    "    return \"\".join(map(str, d[\"SPEED\"].values))\n",
    "\n",
    "def read_data(csv_file):\n",
    "    \"\"\"\n",
    "    Read data, do a bunch of cleaning, returns DataFrame with floats\n",
    "    \"\"\"\n",
    "    d = pd.read_csv(csv_file, sep='\\t', index_col=0, parse_dates=True)\n",
    "    d = d[cmds]\n",
    "\n",
    "    if \"FUEL_STATUS\" in d.keys():\n",
    "        d[\"FUEL_STATUS\"] = d[\"FUEL_STATUS\"].astype(\"category\").cat.codes  # to ints, avoid breaking astype(float)\n",
    "\n",
    "    d.apply(lambda x: x.replace(regex=True, inplace=True, to_replace=r'[^0-9.]', value=\"\"))\n",
    "    d.replace('', '0', inplace=True)\n",
    "    d = d[~d.index.isnull()][:-1].astype(float)\n",
    "    \n",
    "    return d"
   ]
  },
  {
   "cell_type": "code",
   "execution_count": null,
   "metadata": {},
   "outputs": [],
   "source": [
    "d = read_data('data/2019-01-26T16:38:16.tsv')"
   ]
  },
  {
   "cell_type": "code",
   "execution_count": null,
   "metadata": {
    "scrolled": false
   },
   "outputs": [],
   "source": [
    "colors = cm.Dark2(np.linspace(0,1, len(cmds)))\n",
    "figwidth = max(5, int(len(d.index) / 40))\n",
    "figheight = len(cmds)*2\n",
    "fig = plt.figure(figsize=(figwidth, figheight))\n",
    "\n",
    "for i in range(len(cmds)):\n",
    "    cmd, color = cmds[i], colors[i]\n",
    "    ax = plt.subplot(len(cmds), 1, i+1, frameon=False, title=cmd)\n",
    "    \n",
    "    ax.set_xticks([])\n",
    "    ax.set_yticks([])\n",
    "    \n",
    "    xmax, ymax = d[cmd][5:-5].idxmax(), d[cmd][5:-5].max()\n",
    "    ax.annotate(\"max: {0:.0f}\".format(ymax), \n",
    "                xy=(xmax, ymax), \n",
    "                xytext=(xmax, min(ymax*1.25, ymax+10)), \n",
    "                arrowprops=dict(facecolor=color))\n",
    "    \n",
    "    '''\n",
    "    xmin, ymin = d[cmd][10:-5].idxmin(), d[cmd][10:-5].min()\n",
    "    ax.annotate(\"min: {0:.1f}\".format(ymin), \n",
    "                xy=(xmin, ymin), \n",
    "                xytext=(xmin, max(ymin*.75, ymin-10)), \n",
    "                arrowprops=dict(facecolor=color))\n",
    "    '''\n",
    "    \n",
    "    xstart, ystart = d[cmd].index[0], d[cmd][0]\n",
    "    ax.annotate(\"start: {0:.0f}\".format(ystart), \n",
    "                xy=(xstart, ystart), \n",
    "                xytext=(xstart, ystart), \n",
    "                arrowprops=dict(facecolor=color))\n",
    "\n",
    "    xend, yend = d[cmd].index[-1], d[cmd][-1]\n",
    "    ax.annotate(\"end: {0:.0f}\".format(yend), \n",
    "                xy=(xend, yend),\n",
    "                xytext=(xend, yend),\n",
    "                arrowprops=dict(facecolor=color))\n",
    "\n",
    "    avg = get_avg(d[cmd])\n",
    "    ax.plot(d[cmd], color=color, alpha=.75)\n",
    "    ax.axhline(y=avg, color=color, linestyle='--', linewidth=.5, alpha=.5)\n",
    "\n",
    "    avg_str = \"{0:.0f}\".format(avg)\n",
    "    ax.annotate(\"avg: {}\".format(avg_str), xy=(xend, avg), xytext=(xend, avg))\n",
    "\n",
    "plt.tight_layout()\n",
    "plt.savefig('sparklines.pdf')"
   ]
  },
  {
   "cell_type": "code",
   "execution_count": null,
   "metadata": {},
   "outputs": [],
   "source": []
  }
 ],
 "metadata": {
  "kernelspec": {
   "display_name": "Python 3",
   "language": "python",
   "name": "python3"
  },
  "language_info": {
   "codemirror_mode": {
    "name": "ipython",
    "version": 3
   },
   "file_extension": ".py",
   "mimetype": "text/x-python",
   "name": "python",
   "nbconvert_exporter": "python",
   "pygments_lexer": "ipython3",
   "version": "3.6.5"
  }
 },
 "nbformat": 4,
 "nbformat_minor": 2
}
